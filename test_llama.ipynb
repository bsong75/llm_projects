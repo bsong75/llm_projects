{
 "cells": [
  {
   "cell_type": "code",
   "execution_count": 1,
   "id": "619708c4",
   "metadata": {},
   "outputs": [
    {
     "name": "stdout",
     "output_type": "stream",
     "text": [
      " Hello! I'm just an AI, I don't have feelings or emotions like humans do, so I can't really experience the world in the same way that you do. However, I'm here to help answer any questions you may have or provide assistance with any tasks you might have! How can I help you today?\n"
     ]
    }
   ],
   "source": [
    "\n",
    "import requests\n",
    "import json\n",
    "\n",
    "# Ollama API endpoint (running in Docker)\n",
    "OLLAMA_URL = \"http://localhost:11434/v1/chat/completions\"\n",
    "\n",
    "def chat_with_llama(message, conversation_history=None):\n",
    "    if conversation_history is None:\n",
    "        conversation_history = []\n",
    "    \n",
    "    # Build messages array\n",
    "    messages = conversation_history + [{\"role\": \"user\", \"content\": message}]\n",
    "    \n",
    "    payload = {\n",
    "        \"model\": \"llama2\",\n",
    "        \"messages\": messages,\n",
    "        \"max_tokens\": 200,\n",
    "        \"temperature\": 0.7\n",
    "    }\n",
    "    \n",
    "    response = requests.post(OLLAMA_URL, json=payload)\n",
    "    result = response.json()\n",
    "    \n",
    "    return result[\"choices\"][0][\"message\"][\"content\"]\n",
    "\n",
    "# Simple usage\n",
    "response = chat_with_llama(\"Hello, how are you?\")\n",
    "print(response)"
   ]
  },
  {
   "cell_type": "code",
   "execution_count": null,
   "id": "83316e92",
   "metadata": {},
   "outputs": [],
   "source": []
  }
 ],
 "metadata": {
  "kernelspec": {
   "display_name": "Python 3",
   "language": "python",
   "name": "python3"
  },
  "language_info": {
   "codemirror_mode": {
    "name": "ipython",
    "version": 3
   },
   "file_extension": ".py",
   "mimetype": "text/x-python",
   "name": "python",
   "nbconvert_exporter": "python",
   "pygments_lexer": "ipython3",
   "version": "3.8.8"
  }
 },
 "nbformat": 4,
 "nbformat_minor": 5
}
